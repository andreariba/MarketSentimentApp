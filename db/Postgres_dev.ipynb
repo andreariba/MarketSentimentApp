{
 "cells": [
  {
   "cell_type": "code",
   "execution_count": 1,
   "id": "c24b1ca5",
   "metadata": {},
   "outputs": [],
   "source": [
    "import psycopg2\n",
    "from psycopg2.extensions import ISOLATION_LEVEL_AUTOCOMMIT\n"
   ]
  },
  {
   "cell_type": "code",
   "execution_count": 2,
   "id": "1483e004",
   "metadata": {},
   "outputs": [
    {
     "name": "stdout",
     "output_type": "stream",
     "text": [
      "Successfully connected to the PostgreSQL database\n"
     ]
    }
   ],
   "source": [
    "\n",
    "connection = psycopg2.connect(\n",
    "    user=\"postgres\",\n",
    "    password=\"example\",\n",
    "    host=\"localhost\",\n",
    "    port=\"5432\",\n",
    "    database=\"\"\n",
    ")\n",
    "\n",
    "connection.set_isolation_level(ISOLATION_LEVEL_AUTOCOMMIT)\n",
    "\n",
    "cursor = connection.cursor()\n",
    "\n",
    "print(\"Successfully connected to the PostgreSQL database\")\n"
   ]
  },
  {
   "cell_type": "code",
   "execution_count": 3,
   "id": "0d8c2328",
   "metadata": {},
   "outputs": [
    {
     "name": "stdout",
     "output_type": "stream",
     "text": [
      "Successfully created DB SentimentApp\n"
     ]
    }
   ],
   "source": [
    "cursor.execute('CREATE DATABASE SentimentApp')\n",
    "\n",
    "# Commit the transaction to apply the changes\n",
    "connection.commit()\n",
    "\n",
    "print(\"Successfully created DB SentimentApp\")\n"
   ]
  },
  {
   "cell_type": "code",
   "execution_count": 4,
   "id": "5234112b",
   "metadata": {},
   "outputs": [],
   "source": [
    "cursor.close()\n",
    "connection.close()"
   ]
  },
  {
   "cell_type": "code",
   "execution_count": 5,
   "id": "e9593581",
   "metadata": {},
   "outputs": [
    {
     "name": "stdout",
     "output_type": "stream",
     "text": [
      "Successfully connected to the PostgreSQL database\n"
     ]
    }
   ],
   "source": [
    "\n",
    "connection = psycopg2.connect(\n",
    "    user=\"postgres\",\n",
    "    password=\"example\",\n",
    "    host=\"localhost\",\n",
    "    port=\"5432\",\n",
    "    database=\"sentimentapp\"\n",
    ")\n",
    "\n",
    "connection.set_isolation_level(ISOLATION_LEVEL_AUTOCOMMIT)\n",
    "\n",
    "cursor = connection.cursor()\n",
    "\n",
    "print(\"Successfully connected to the PostgreSQL database\")\n"
   ]
  },
  {
   "cell_type": "code",
   "execution_count": 6,
   "id": "6da7bade",
   "metadata": {},
   "outputs": [],
   "source": [
    "\n",
    "cursor.execute(open(\"dump.sql\", mode=\"r\", encoding=\"utf-16\").read())\n"
   ]
  },
  {
   "cell_type": "code",
   "execution_count": 7,
   "id": "ab29f4d5",
   "metadata": {},
   "outputs": [
    {
     "name": "stdout",
     "output_type": "stream",
     "text": [
      "Successfully dumped to the PostgreSQL database\n"
     ]
    }
   ],
   "source": [
    "connection.commit()\n",
    "\n",
    "print(\"Successfully dumped to the PostgreSQL database\")\n"
   ]
  },
  {
   "cell_type": "code",
   "execution_count": 8,
   "id": "858bc2cb",
   "metadata": {},
   "outputs": [],
   "source": [
    "cursor.close()\n",
    "connection.close()"
   ]
  }
 ],
 "metadata": {
  "kernelspec": {
   "display_name": "Python 3 (ipykernel)",
   "language": "python",
   "name": "python3"
  },
  "language_info": {
   "codemirror_mode": {
    "name": "ipython",
    "version": 3
   },
   "file_extension": ".py",
   "mimetype": "text/x-python",
   "name": "python",
   "nbconvert_exporter": "python",
   "pygments_lexer": "ipython3",
   "version": "3.9.13"
  }
 },
 "nbformat": 4,
 "nbformat_minor": 5
}
