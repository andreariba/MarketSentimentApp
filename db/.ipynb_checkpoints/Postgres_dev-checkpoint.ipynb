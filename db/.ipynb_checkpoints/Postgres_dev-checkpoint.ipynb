{
 "cells": [
  {
   "cell_type": "code",
   "execution_count": 15,
   "id": "2c888629",
   "metadata": {},
   "outputs": [],
   "source": [
    "import psycopg2\n",
    "from psycopg2.extensions import ISOLATION_LEVEL_AUTOCOMMIT\n"
   ]
  },
  {
   "cell_type": "code",
   "execution_count": 16,
   "id": "c3d54280",
   "metadata": {},
   "outputs": [
    {
     "name": "stdout",
     "output_type": "stream",
     "text": [
      "Successfully connected to the PostgreSQL database\n"
     ]
    }
   ],
   "source": [
    "\n",
    "connection = psycopg2.connect(\n",
    "    user=\"postgres\",\n",
    "    password=\"example\",\n",
    "    host=\"localhost\",\n",
    "    port=\"5432\",\n",
    "    database=\"\"\n",
    ")\n",
    "\n",
    "connection.set_isolation_level(ISOLATION_LEVEL_AUTOCOMMIT)\n",
    "\n",
    "cursor = connection.cursor()\n",
    "\n",
    "print(\"Successfully connected to the PostgreSQL database\")\n"
   ]
  },
  {
   "cell_type": "code",
   "execution_count": 17,
   "id": "05b289fa",
   "metadata": {},
   "outputs": [
    {
     "ename": "DuplicateDatabase",
     "evalue": "database \"sentimentapp\" already exists\n",
     "output_type": "error",
     "traceback": [
      "\u001b[1;31m---------------------------------------------------------------------------\u001b[0m",
      "\u001b[1;31mDuplicateDatabase\u001b[0m                         Traceback (most recent call last)",
      "\u001b[1;32m~\\AppData\\Local\\Temp\\ipykernel_19080\\3253753856.py\u001b[0m in \u001b[0;36m<module>\u001b[1;34m\u001b[0m\n\u001b[1;32m----> 1\u001b[1;33m \u001b[0mcursor\u001b[0m\u001b[1;33m.\u001b[0m\u001b[0mexecute\u001b[0m\u001b[1;33m(\u001b[0m\u001b[1;34m'CREATE DATABASE SentimentApp'\u001b[0m\u001b[1;33m)\u001b[0m\u001b[1;33m\u001b[0m\u001b[1;33m\u001b[0m\u001b[0m\n\u001b[0m\u001b[0;32m      2\u001b[0m \u001b[1;33m\u001b[0m\u001b[0m\n\u001b[0;32m      3\u001b[0m \u001b[1;31m# Commit the transaction to apply the changes\u001b[0m\u001b[1;33m\u001b[0m\u001b[1;33m\u001b[0m\u001b[0m\n\u001b[0;32m      4\u001b[0m \u001b[0mconnection\u001b[0m\u001b[1;33m.\u001b[0m\u001b[0mcommit\u001b[0m\u001b[1;33m(\u001b[0m\u001b[1;33m)\u001b[0m\u001b[1;33m\u001b[0m\u001b[1;33m\u001b[0m\u001b[0m\n\u001b[0;32m      5\u001b[0m \u001b[1;33m\u001b[0m\u001b[0m\n",
      "\u001b[1;31mDuplicateDatabase\u001b[0m: database \"sentimentapp\" already exists\n"
     ]
    }
   ],
   "source": [
    "cursor.execute('CREATE DATABASE SentimentApp')\n",
    "\n",
    "# Commit the transaction to apply the changes\n",
    "connection.commit()\n",
    "\n",
    "print(\"Successfully created DB SentimentApp\")\n"
   ]
  },
  {
   "cell_type": "code",
   "execution_count": 18,
   "id": "db76514c",
   "metadata": {},
   "outputs": [],
   "source": [
    "cursor.close()\n",
    "connection.close()"
   ]
  },
  {
   "cell_type": "code",
   "execution_count": 19,
   "id": "f74c74c2",
   "metadata": {},
   "outputs": [
    {
     "name": "stdout",
     "output_type": "stream",
     "text": [
      "Successfully connected to the PostgreSQL database\n"
     ]
    }
   ],
   "source": [
    "\n",
    "connection = psycopg2.connect(\n",
    "    user=\"postgres\",\n",
    "    password=\"example\",\n",
    "    host=\"localhost\",\n",
    "    port=\"5432\",\n",
    "    database=\"sentimentapp\"\n",
    ")\n",
    "\n",
    "connection.set_isolation_level(ISOLATION_LEVEL_AUTOCOMMIT)\n",
    "\n",
    "cursor = connection.cursor()\n",
    "\n",
    "print(\"Successfully connected to the PostgreSQL database\")\n"
   ]
  },
  {
   "cell_type": "code",
   "execution_count": 30,
   "id": "0f78b464",
   "metadata": {},
   "outputs": [
    {
     "name": "stdout",
     "output_type": "stream",
     "text": [
      "﻿BEGIN TRANSACTION;\n",
      "\n",
      "CREATE TABLE IF NOT EXISTS \"city_table\"(\n",
      "\n",
      "\"city\" TEXT, \"city_ascii\" TEXT, \"lat\" TEXT, \"lng\" TEXT,\n",
      "\n",
      " \"country\" TEXT, \"iso2\" TEXT, \"iso3\" TEXT, \"admin_name\" TEXT,\n",
      "\n",
      " \"capital\" TEXT, \"population\" TEXT, \"id\" TEXT);\n",
      "\n",
      "INSERT INTO city_table VALUES('Tokyo','Tokyo','35.6897','139.6922','Japan','JP','JPN','T┼ìky┼ì','primary','37732000','1392685764');\n",
      "\n",
      "INSERT INTO city_table VALUES('Jakarta','Jakarta','-6.1750','106.8275','Indonesia','ID','IDN','Jakarta','primary','33756000','1360771077');\n",
      "\n",
      "INSERT INTO city_table VALUES('Delhi','Delhi','28.6100','77.2300','India','IN','IND','Delhi','admin','32226000','1356872604');\n",
      "\n",
      "INSERT INTO city_table VALUES('Guangzhou','Guangzhou','23.1300','113.2600','China','CN','CHN','Guangdong','admin','26940000','1156237133');\n",
      "\n",
      "INSERT INTO city_table VALUES('Mumbai','Mumbai','19.0761','72.8775','India','IN','IND','Mah─ür─üshtra','admin','24973000','1356226629');\n",
      "\n",
      "INSERT INTO city_table VALUES('Manila','Manila','14.5958','120.9772','Philippines','PH','PHL','Manila','primary','24922000','1608618140');\n",
      "\n",
      "INSERT INTO city_table VALUES('Shanghai','Shanghai','31.1667','121.4667','China','CN','CHN','Shanghai','admin','24073000','1156073548');\n",
      "\n",
      "INSERT INTO city_table VALUES('S├úo Paulo','Sao Paulo','-23.5500','-46.6333','Brazil','BR','BRA','S├úo Paulo','admin','23086000','1076532519');\n",
      "\n",
      "INSERT INTO city_table VALUES('Seoul','Seoul','37.5600','126.9900','South Korea','KR','KOR','Seoul','primary','23016000','1410836482');\n",
      "\n",
      "INSERT INTO city_table VALUES('Mexico City','Mexico City','19.4333','-99.1333','Mexico','MX','MEX','Ciudad de M├⌐xico','primary','21804000','1484247881');\n",
      "\n",
      "INSERT INTO city_table VALUES('Cairo','Cairo','30.0444','31.2358','Egypt','EG','EGY','Al Q─ühirah','primary','20296000','1818253931');\n",
      "\n",
      "INSERT INTO city_table VALUES('New York','New York','40.6943','-73.9249','United States','US','USA','New York','','18972871','1840034016');\n",
      "\n",
      "INSERT INTO city_table VALUES('Dhaka','Dhaka','23.7639','90.3889','Bangladesh','BD','BGD','Dhaka','primary','18627000','1050529279');\n",
      "\n",
      "INSERT INTO city_table VALUES('Beijing','Beijing','39.9040','116.4075','China','CN','CHN','Beijing','primary','18522000','1156228865');\n",
      "\n",
      "INSERT INTO city_table VALUES('Kolk─üta','Kolkata','22.5675','88.3700','India','IN','IND','West Bengal','admin','18502000','1356060520');\n",
      "\n",
      "INSERT INTO city_table VALUES('Bangkok','Bangkok','13.7525','100.4942','Thailand','TH','THA','Krung Thep Maha Nakhon','primary','18007000','1764068610');\n",
      "\n",
      "INSERT INTO city_table VALUES('Shenzhen','Shenzhen','22.5350','114.0540','China','CN','CHN','Guangdong','minor','17619000','1156158707');\n",
      "\n",
      "INSERT INTO city_table VALUES('Moscow','Moscow','55.7558','37.6178','Russia','RU','RUS','Moskva','primary','17332000','1643318494');\n",
      "\n",
      "INSERT INTO city_table VALUES('Buenos Aires','Buenos Aires','-34.5997','-58.3819','Argentina','AR','ARG','Buenos Aires, Ciudad Aut├│noma de','primary','16710000','1032717330');\n",
      "\n",
      "INSERT INTO city_table VALUES('Lagos','Lagos','6.4550','3.3841','Nigeria','NG','NGA','Lagos','minor','16637000','1566593751');\n",
      "\n",
      "INSERT INTO city_table VALUES('Istanbul','Istanbul','41.0136','28.9550','Turkey','TR','TUR','─░stanbul','admin','16079000','1792756324');\n",
      "\n",
      "INSERT INTO city_table VALUES('Karachi','Karachi','24.8600','67.0100','Pakistan','PK','PAK','Sindh','admin','15738000','1586129469');\n",
      "\n",
      "INSERT INTO city_table VALUES('Bangalore','Bangalore','12.9789','77.5917','India','IN','IND','Karn─ütaka','admin','15386000','1356410365');\n",
      "\n",
      "INSERT INTO city_table VALUES('Ho Chi Minh City','Ho Chi Minh City','10.7756','106.7019','Vietnam','VN','VNM','Hß╗ô Ch├¡ Minh','admin','15136000','1704774326');\n",
      "\n",
      "INSERT INTO city_table VALUES('┼îsaka','Osaka','34.6939','135.5022','Japan','JP','JPN','┼îsaka','admin','15126000','1392419823');\n",
      "\n",
      "INSERT INTO city_table VALUES('Chengdu','Chengdu','30.6600','104.0633','China','CN','CHN','Sichuan','admin','14645000','1156421555');\n",
      "\n",
      "INSERT INTO city_table VALUES('Tehran','Tehran','35.6892','51.3889','Iran','IR','IRN','Tehr─ün','primary','14148000','1364305026');\n",
      "\n",
      "INSERT INTO city_table VALUES('Kinshasa','Kinshasa','-4.3250','15.3222','Congo (Kinshasa)','CD','COD','Kinshasa','primary','12836000','1180000363');\n",
      "\n",
      "INSERT INTO city_table VALUES('Rio de Janeiro','Rio de Janeiro','-22.9111','-43.2056','Brazil','BR','BRA','Rio de Janeiro','admin','12592000','1076887657');\n",
      "\n",
      "INSERT INTO city_table VALUES('Chennai','Chennai','13.0825','80.2750','India','IN','IND','Tamil N─üdu','admin','12395000','1356374944');\n",
      "\n",
      "INSERT INTO city_table VALUES('XiΓÇÖan','Xi''an','34.2667','108.9000','China','CN','CHN','Shaanxi','admin','12328000','1156244079');\n",
      "\n",
      "INSERT INTO city_table VALUES('Lahore','Lahore','31.5497','74.3436','Pakistan','PK','PAK','Punjab','admin','12306000','1586801463');\n",
      "\n",
      "INSERT INTO city_table VALUES('Chongqing','Chongqing','29.5500','106.5069','China','CN','CHN','Chongqing','admin','12135000','1156936556');\n",
      "\n",
      "INSERT INTO city_table VALUES('Los Angeles','Los Angeles','34.1141','-118.4068','United States','US','USA','California','','12121244','1840020491');\n",
      "\n",
      "INSERT INTO city_table VALUES('Baoding','Baoding','38.8671','115.4845','China','CN','CHN','Hebei','','11860000','1156256829');\n",
      "\n",
      "INSERT INTO city_table VALUES('London','London','51.5072','-0.1275','United Kingdom','GB','GBR','London, City of','primary','11262000','1826645935');\n",
      "\n",
      "INSERT INTO city_table VALUES('Paris','Paris','48.8567','2.3522','France','FR','FRA','├Äle-de-France','primary','11060000','1250015082');\n",
      "\n",
      "INSERT INTO city_table VALUES('Linyi','Linyi','35.1041','118.3502','China','CN','CHN','Shandong','','11018365','1156086320');\n",
      "\n",
      "INSERT INTO city_table VALUES('Dongguan','Dongguan','23.0475','113.7493','China','CN','CHN','Guangdong','minor','10646000','1156478242');\n",
      "\n",
      "INSERT INTO city_table VALUES('Hyder─üb─üd','Hyderabad','17.3850','78.4867','India','IN','IND','Telang─üna','admin','10494000','1356871768');\n",
      "\n",
      "INSERT INTO city_table VALUES('Tianjin','Tianjin','39.1467','117.2056','China','CN','CHN','Tianjin','admin','10368000','1156174046');\n",
      "\n",
      "INSERT INTO city_table VALUES('Lima','Lima','-12.0600','-77.0375','Peru','PE','PER','Lima','primary','10320000','1604728603');\n",
      "\n",
      "INSERT INTO city_table VALUES('Wuhan','Wuhan','30.5872','114.2881','China','CN','CHN','Hubei','admin','10251000','1156117184');\n",
      "\n",
      "INSERT INTO city_table VALUES('Nanyang','Nanyang','32.9987','112.5292','China','CN','CHN','Henan','','10013600','1156192287');\n",
      "\n",
      "INSERT INTO city_table VALUES('Hangzhou','Hangzhou','30.2500','120.1675','China','CN','CHN','Zhejiang','admin','9523000','1156275243');\n",
      "\n",
      "INSERT INTO city_table VALUES('Foshan','Foshan','23.0292','113.1056','China','CN','CHN','Guangdong','minor','9498863','1156738403');\n",
      "\n"
     ]
    }
   ],
   "source": [
    "with open(\"dump.sql\", mode=\"r\", encoding=\"utf-16\") as fp:\n",
    "    i =0 \n",
    "    for line in fp:\n",
    "        print(line)\n",
    "        \n",
    "        i+=1\n",
    "        if i>50:\n",
    "            break\n",
    "    "
   ]
  },
  {
   "cell_type": "code",
   "execution_count": 29,
   "id": "e0259d30",
   "metadata": {},
   "outputs": [],
   "source": [
    "\n",
    "cursor.execute(\"CREATE TABLE IF NOT EXISTS \\\"city_table\\\"(\\\"city\\\" TEXT, \\\"city_ascii\\\" TEXT, \\\"lat\\\" TEXT, \\\"lng\\\" TEXT,\\\"country\\\" TEXT, \\\"iso2\\\" TEXT, \\\"iso3\\\" TEXT, \\\"admin_name\\\" TEXT,\\\"capital\\\" TEXT, \\\"population\\\" TEXT, \\\"id\\\" TEXT);\")\n",
    "\n",
    "﻿BEGIN TRANSACTION;"
   ]
  },
  {
   "cell_type": "code",
   "execution_count": null,
   "id": "27fe70ff",
   "metadata": {},
   "outputs": [],
   "source": [
    "connection.commit()\n",
    "\n",
    "print(\"Successfully dumped to the PostgreSQL database\")\n"
   ]
  },
  {
   "cell_type": "code",
   "execution_count": null,
   "id": "8874fe06",
   "metadata": {},
   "outputs": [],
   "source": [
    "﻿BEGIN TRANSACTION;"
   ]
  }
 ],
 "metadata": {
  "kernelspec": {
   "display_name": "Python 3 (ipykernel)",
   "language": "python",
   "name": "python3"
  },
  "language_info": {
   "codemirror_mode": {
    "name": "ipython",
    "version": 3
   },
   "file_extension": ".py",
   "mimetype": "text/x-python",
   "name": "python",
   "nbconvert_exporter": "python",
   "pygments_lexer": "ipython3",
   "version": "3.9.13"
  }
 },
 "nbformat": 4,
 "nbformat_minor": 5
}
